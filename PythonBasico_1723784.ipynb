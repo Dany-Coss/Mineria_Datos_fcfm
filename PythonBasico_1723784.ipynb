{
 "cells": [
  {
   "cell_type": "markdown",
   "metadata": {},
   "source": [
    "Ejercicio 1: Realiza una variable con tu matricula y realiza una secuencia de imprimir con tu nombre y tu matricula concatenados."
   ]
  },
  {
   "cell_type": "code",
   "execution_count": 5,
   "metadata": {},
   "outputs": [
    {
     "name": "stdout",
     "output_type": "stream",
     "text": [
      "Introduce tu matricula: 1723784\n",
      "Introduzca su nombre completo: Daniel de la Rosa Coss\n",
      "Su nombre es: Daniel de la Rosa Coss y su matricula es: 1723784\n"
     ]
    }
   ],
   "source": [
    "matricula =input(\"Introduce tu matricula: \") #No se usó int() porque no se ocupa hacer operaciones con esta variable\n",
    "nombre = input(\"Introduzca su nombre completo: \")\n",
    "\n",
    "print(\"Su nombre es: \"+ nombre + \" y su matricula es: \"+ matricula)"
   ]
  },
  {
   "cell_type": "markdown",
   "metadata": {},
   "source": [
    "Ejercicio 2: Pidiendo el input del usuario pide dos números y crea una pequeña calculadora con los operadores básicos de suma, resta, multiplicación, división, y exponente."
   ]
  },
  {
   "cell_type": "code",
   "execution_count": 9,
   "metadata": {},
   "outputs": [
    {
     "name": "stdout",
     "output_type": "stream",
     "text": [
      "Ingrese un número por favor: 2\n",
      "Ingrese un número por favor: 3\n",
      "Suma -> 2 + 3 = 5\n",
      "Resta -> 2 - 3 = -1\n",
      "Multiplicacion -> 2 * 3 = 6\n",
      "Division -> 2 / 3 = 0.6666666666666666\n",
      "Exponencial -> 2 ** 3 = 8\n"
     ]
    }
   ],
   "source": [
    "n1 = int(input(\"Ingrese un número por favor: \"))\n",
    "n2 = int(input(\"Ingrese un número por favor: \"))\n",
    "\n",
    "suma = n1 + n2\n",
    "resta= n1 - n2\n",
    "multi= n1 * n2\n",
    "divi = n1 / n2\n",
    "expo = n1**n2\n",
    "\n",
    "print(\"Suma ->\",n1, \"+\", n2, \"=\",suma)\n",
    "print(\"Resta ->\",n1, \"-\",n2,\"=\",resta)\n",
    "print(\"Multiplicacion ->\", n1, \"*\",n2,\"=\",multi)\n",
    "print(\"Division ->\",n1, \"/\",n2,\"=\",divi)\n",
    "print(\"Exponencial ->\",n1, \"**\",n2,\"=\",expo)"
   ]
  },
  {
   "cell_type": "markdown",
   "metadata": {},
   "source": [
    "Ejercicio 3:\n",
    "Con loop while o for, realiza una lista de 10 numeros multiplos de 3, y después realiza una función de loop que sume todos los números dentro del arreglo."
   ]
  },
  {
   "cell_type": "code",
   "execution_count": 11,
   "metadata": {},
   "outputs": [
    {
     "name": "stdout",
     "output_type": "stream",
     "text": [
      "[3, 6, 9, 12, 15, 18, 21, 24, 27, 30]\n"
     ]
    }
   ],
   "source": [
    "lista=[]\n",
    "for i in range(0,10):\n",
    "    lista.append(3*(i+1))\n",
    "    \n",
    "print(lista)    \n"
   ]
  },
  {
   "cell_type": "code",
   "execution_count": 15,
   "metadata": {},
   "outputs": [
    {
     "data": {
      "text/plain": [
       "165"
      ]
     },
     "execution_count": 15,
     "metadata": {},
     "output_type": "execute_result"
    }
   ],
   "source": [
    "acumulador=0\n",
    "i=0\n",
    "while i<len(lista):\n",
    "    acumulador=acumulador+lista[i]\n",
    "    i=i+1\n",
    "acumulador"
   ]
  },
  {
   "cell_type": "markdown",
   "metadata": {},
   "source": [
    "Ejercicio 4\n",
    "Con una función de if else, revisar si un número es par o es impar.\n",
    "Con una función de if else, revisar si un número es primo o no."
   ]
  },
  {
   "cell_type": "code",
   "execution_count": 19,
   "metadata": {},
   "outputs": [
    {
     "name": "stdout",
     "output_type": "stream",
     "text": [
      "Ingrese un numero entero: 23\n",
      "El numero es  impar\n",
      "El número es primo\n"
     ]
    }
   ],
   "source": [
    "a=int(input(\"Ingrese un numero entero: \"))\n",
    "divisores=0\n",
    "\n",
    "if a%2==0:\n",
    "    print(\"El numero es par\")\n",
    "else: \n",
    "    print(\"El numero es  impar\")\n",
    "\n",
    "for j in range(1,a+1):\n",
    "    if a%j==0:\n",
    "        divisores+=1\n",
    "\n",
    "if divisores==2:\n",
    "    print(\"El número es primo\")\n",
    "else:\n",
    "    print(\"El numero no es primo\")"
   ]
  },
  {
   "cell_type": "markdown",
   "metadata": {},
   "source": [
    "\n",
    "Ejercicio 5:\n",
    "Utilizando diferentes clases en python, crea una calculadora con los operadores básicos de suma, resta, multiplicación, división, y exponente."
   ]
  },
  {
   "cell_type": "code",
   "execution_count": 1,
   "metadata": {},
   "outputs": [],
   "source": [
    "def suma(a,b):\n",
    "    s=a+b\n",
    "    return s\n",
    "\n",
    "def resta(a,b):\n",
    "    r=a-b\n",
    "    return r\n",
    "\n",
    "def multiplicacion(a,b):\n",
    "    m=a*b\n",
    "    return m\n",
    "\n",
    "def división(a,b):\n",
    "    d=a/b\n",
    "    return d\n",
    "\n",
    "def exponente(a,b):\n",
    "    expo=a**b\n",
    "    return expo"
   ]
  },
  {
   "cell_type": "code",
   "execution_count": 8,
   "metadata": {},
   "outputs": [
    {
     "data": {
      "text/plain": [
       "0"
      ]
     },
     "execution_count": 8,
     "metadata": {},
     "output_type": "execute_result"
    }
   ],
   "source": [
    "import os\n",
    "borrarPantalla = lambda: os.system (\"cls\") #al parecer esto no funciona aquí \n",
    "borrarPantalla() #Limpia la pantalla\n",
    "#https://unipython.com/como-borrar-pantalla-en-python/"
   ]
  },
  {
   "cell_type": "code",
   "execution_count": 14,
   "metadata": {},
   "outputs": [
    {
     "name": "stdout",
     "output_type": "stream",
     "text": [
      "Ingrese un numero  a: 5\n",
      "Ingrese otro numero b: 6\n",
      "Seleccione la operación que desea realizar:\n",
      "1.-Ingresar 2 nuevos numeros\n",
      "2.-Suma a+b\n",
      "3.-Resta a-b\n",
      "4.-Multiplicación a*b\n",
      "5.-Exponente a**b\n",
      "0.-Salir\n",
      "Ingrese la el numero de la operación que desee realizar: 5\n",
      "5 ** 6 = 15625\n",
      "Presione enter para continuar: \n"
     ]
    }
   ],
   "source": [
    "\n",
    "numero1=int(input(\"Ingrese un numero  a: \"))\n",
    "numero2=int(input(\"Ingrese otro numero b: \"))\n",
    "#while op>0: \n",
    "print(\"Seleccione la operación que desea realizar:\")\n",
    "print(\"1.-Ingresar 2 nuevos numeros\")\n",
    "print(\"2.-Suma a+b\")\n",
    "print(\"3.-Resta a-b\")\n",
    "print(\"4.-Multiplicación a*b\")\n",
    "print(\"5.-Exponente a**b\")\n",
    "print(\"0.-Salir\")\n",
    "op=int(input(\"Ingrese la el numero de la operación que desee realizar: \"))\n",
    "    #borrarPantalla()\n",
    "    \n",
    "    \n",
    "if op==1:\n",
    "    numero1=int(input(\"Ingrese un numero  a: \"))\n",
    "    numero2=int(input(\"Ingrese otro numero b: \"))\n",
    "    #input(\"Presione enter para continuar: \")\n",
    "        #borrarPantalla()\n",
    "elif op==2:\n",
    "    print(numero1, \"+\", numero2, \"=\", suma(numero1,numero2))\n",
    "    #input(\"Presione enter para continuar: \")\n",
    "        #borrarPantalla()\n",
    "elif op==3:\n",
    "    print(numero1, \"-\", numero2, \"=\", resta(numero1,numero2))\n",
    "    input(\"Presione enter para continuar: \")\n",
    "        #borrarPantalla()\n",
    "elif op==4:\n",
    "    print(numero1, \"*\", numero2, \"=\", multiplicacion(numero1,numero2))\n",
    "    input(\"Presione enter para continuar: \")\n",
    "        #borrarPantalla()\n",
    "elif op==5:\n",
    "    print(numero1, \"**\", numero2, \"=\", exponente(numero1,numero2))\n",
    "    input(\"Presione enter para continuar: \")\n",
    "        #borrarPantalla()\n",
    "elif op==0:\n",
    "    print(\"Gracias\")\n",
    "else:\n",
    "    input(\"La opción ingresada es invalida, intente de nuevo, presione enter para continuar\")\n",
    "        #borrarPantalla()"
   ]
  },
  {
   "cell_type": "markdown",
   "metadata": {},
   "source": [
    "El uso del while aqui era en caso de que funcionara os.system(\"cls\") pero al parecer aquí no funciona :( "
   ]
  },
  {
   "cell_type": "markdown",
   "metadata": {},
   "source": [
    "EJERCICIOS ESTRUCTURAS BÁSICAS\n",
    "Tuplas\n",
    "* Crear una variable flotante, integer, boleana y compleja e imprimir el tipo de variable que es.\n"
   ]
  },
  {
   "cell_type": "code",
   "execution_count": 17,
   "metadata": {},
   "outputs": [
    {
     "name": "stdout",
     "output_type": "stream",
     "text": [
      "<class 'float'>\n",
      "<class 'int'>\n",
      "<class 'bool'>\n",
      "<class 'complex'>\n"
     ]
    }
   ],
   "source": [
    "lista1=[]\n",
    "lista1.append(float(3.1416))\n",
    "lista1.append(int(28))\n",
    "lista1.append(bool(28))\n",
    "lista1.append(4+3j)\n",
    "tupla1=tuple(lista1)\n",
    "\n",
    "for i in range(0,len(tupla1)):\n",
    "    print(type(tupla1[i]))"
   ]
  },
  {
   "cell_type": "markdown",
   "metadata": {},
   "source": [
    "* Crear una tupla con valores enteros imprimir el primer y ultimo valor"
   ]
  },
  {
   "cell_type": "code",
   "execution_count": 20,
   "metadata": {},
   "outputs": [
    {
     "name": "stdout",
     "output_type": "stream",
     "text": [
      "1\n",
      "10\n"
     ]
    }
   ],
   "source": [
    "tupla2=(1,2,3,4,5,6,7,8,9,10)\n",
    "\n",
    "print(tupla2[0])\n",
    "print(tupla2[9])"
   ]
  },
  {
   "cell_type": "markdown",
   "metadata": {},
   "source": [
    "* Añadir 3 valores de string a la tupla"
   ]
  },
  {
   "cell_type": "code",
   "execution_count": 21,
   "metadata": {},
   "outputs": [
    {
     "name": "stdout",
     "output_type": "stream",
     "text": [
      "(1, 2, 3, 4, 5, 6, 7, 8, 9, 10, 'a', 'b', 'c')\n",
      "<class 'str'>\n",
      "<class 'str'>\n",
      "<class 'str'>\n"
     ]
    }
   ],
   "source": [
    "lista2=list(tupla2)\n",
    "lista2.append(\"a\")\n",
    "lista2.append(\"b\")\n",
    "lista2.append(\"c\")\n",
    "tupla3=tuple(lista2)\n",
    "\n",
    "print(tupla3)\n",
    "print(type(tupla3[10]))\n",
    "print(type(tupla3[11]))\n",
    "print(type(tupla3[12]))"
   ]
  },
  {
   "cell_type": "markdown",
   "metadata": {},
   "source": [
    "* Verificar si una variable existe dentro de la tupla"
   ]
  },
  {
   "cell_type": "code",
   "execution_count": 22,
   "metadata": {},
   "outputs": [
    {
     "name": "stdout",
     "output_type": "stream",
     "text": [
      "False\n",
      "True\n"
     ]
    }
   ],
   "source": [
    "print(\"El PEPE\" in tupla3)\n",
    "print(\"a\" in tupla3)"
   ]
  },
  {
   "cell_type": "markdown",
   "metadata": {},
   "source": [
    "Aqui al usar print(\"algo\" in tupla3) imprime de valor TRUE o FALSE, es decir, imprime si existe o no un elemento en una tupla"
   ]
  },
  {
   "cell_type": "markdown",
   "metadata": {},
   "source": [
    "Ejercicios con estructuras básicas de python Listas\n",
    "* Crear una lista con 40 elementos aleatorios enteros."
   ]
  },
  {
   "cell_type": "code",
   "execution_count": 94,
   "metadata": {},
   "outputs": [
    {
     "name": "stdout",
     "output_type": "stream",
     "text": [
      "[84, 12, 32, 42, 19, 7, 80, 24, 56, 78, 3, 27, 25, 14, 15, 95, 13, 89, 23, 83, 27, 54, 38, 92, 83, 10, 100, 22, 15, 8, 32, 62, 27, 5, 68, 57, 19, 65, 28, 29]\n"
     ]
    }
   ],
   "source": [
    "import random as r\n",
    "lista40=[]\n",
    "for i in range(0,40):\n",
    "    lista40.append(r.randint(1,100))\n",
    "\n",
    "print(lista40)"
   ]
  },
  {
   "cell_type": "markdown",
   "metadata": {},
   "source": [
    "* Con una funcion (def) crear dos listas nuevas a partir de la lista creada por numeros aleatorios, en la cual en una esten los elementos pares, y en la otra los elementos impares"
   ]
  },
  {
   "cell_type": "code",
   "execution_count": 108,
   "metadata": {},
   "outputs": [],
   "source": [
    "pares=[]\n",
    "impares=[]\n",
    "def parimpar(lista):\n",
    "    valor=0\n",
    "    for j in range(0,len(lista)):\n",
    "        valor=lista[j]\n",
    "        if valor%2==0:\n",
    "            pares.append(valor)\n",
    "        else:\n",
    "            impares.append(valor)\n",
    "    \n",
    "    return pares,impares\n",
    "   "
   ]
  },
  {
   "cell_type": "markdown",
   "metadata": {},
   "source": [
    "Funcion donde el parametro es una lista\n"
   ]
  },
  {
   "cell_type": "code",
   "execution_count": 109,
   "metadata": {},
   "outputs": [
    {
     "data": {
      "text/plain": [
       "([84,\n",
       "  12,\n",
       "  32,\n",
       "  42,\n",
       "  80,\n",
       "  24,\n",
       "  56,\n",
       "  78,\n",
       "  14,\n",
       "  54,\n",
       "  38,\n",
       "  92,\n",
       "  10,\n",
       "  100,\n",
       "  22,\n",
       "  8,\n",
       "  32,\n",
       "  62,\n",
       "  68,\n",
       "  28],\n",
       " [19, 7, 3, 27, 25, 15, 95, 13, 89, 23, 83, 27, 83, 15, 27, 5, 57, 19, 65, 29])"
      ]
     },
     "execution_count": 109,
     "metadata": {},
     "output_type": "execute_result"
    }
   ],
   "source": [
    "parimpar(lista40)"
   ]
  },
  {
   "cell_type": "markdown",
   "metadata": {},
   "source": [
    "* Crear dos variables con la longitud de ambas listas nuevas e imprimir las variables"
   ]
  },
  {
   "cell_type": "code",
   "execution_count": 110,
   "metadata": {},
   "outputs": [
    {
     "name": "stdout",
     "output_type": "stream",
     "text": [
      "20\n",
      "20\n"
     ]
    }
   ],
   "source": [
    "lonpar=len(pares)\n",
    "lonimpar=len(impares)\n",
    "\n",
    "print(lonpar)\n",
    "print(lonimpar)"
   ]
  },
  {
   "cell_type": "markdown",
   "metadata": {},
   "source": [
    "* Ordenar los elementos de la lista par de mayor a menor, y los de la lista impar de menor a mayor."
   ]
  },
  {
   "cell_type": "code",
   "execution_count": 114,
   "metadata": {},
   "outputs": [
    {
     "name": "stdout",
     "output_type": "stream",
     "text": [
      "[100, 92, 84, 80, 78, 68, 62, 56, 54, 42, 38, 32, 32, 28, 24, 22, 14, 12, 10, 8] 20\n"
     ]
    }
   ],
   "source": [
    "pares.sort(reverse=True) #https://j2logo.com/python/ordenar-una-lista-en-python/#ordenar-basico\n",
    "print(pares,len(pares))"
   ]
  },
  {
   "cell_type": "code",
   "execution_count": 115,
   "metadata": {},
   "outputs": [
    {
     "name": "stdout",
     "output_type": "stream",
     "text": [
      "[3, 5, 7, 13, 15, 15, 19, 19, 23, 25, 27, 27, 27, 29, 57, 65, 83, 83, 89, 95] 20\n"
     ]
    }
   ],
   "source": [
    "impares.sort()\n",
    "print(impares,len(impares))\n",
    "    "
   ]
  },
  {
   "cell_type": "markdown",
   "metadata": {},
   "source": [
    "* Utilizar al menos cuatro de las funciones de listas en python en la lista original de 40 elementos."
   ]
  },
  {
   "cell_type": "code",
   "execution_count": 117,
   "metadata": {},
   "outputs": [
    {
     "name": "stdout",
     "output_type": "stream",
     "text": [
      "[84, 12, 32, 42, 19, 7, 80, 24, 56, 78, 3, 27, 25, 14, 15, 95, 13, 89, 23, 83, 27, 54, 38, 92, 83, 10, 100, 22, 15, 8, 32, 62, 27, 5, 68, 57, 19, 65, 28]\n",
      "[84, 12, 32, 42, 19, 7, 80, 24, 56, 78, 3, 27, 25, 14, 15, 95, 13, 89, 23, 83, 27, 54, 38, 92, 83, 10, 100, 22, 15, 8, 32, 62, 27, 5, 68, 57, 19, 65, 28, 10000]\n",
      "[84, 12, 32, 42, 19, 7, 80, 24, 56, 78, 3, 27, 25, 14, 15, 95, 13, 89, 23, 83, 27, 54, 38, 92, 83, 10, 100, 22, 15, 8, 32, 62, 27, 5, 68, 57, 19, 65, 28, 10000, 101, 102, 103]\n",
      "[3, 5, 7, 8, 10, 12, 13, 14, 15, 15, 19, 19, 22, 23, 24, 25, 27, 27, 27, 28, 32, 32, 38, 42, 54, 56, 57, 62, 65, 68, 78, 80, 83, 83, 84, 89, 92, 95, 100, 101, 102, 103, 10000]\n"
     ]
    }
   ],
   "source": [
    "lista40.pop()\n",
    "print(lista40)\n",
    "lista40.append(10000)\n",
    "print(lista40)\n",
    "lista40.extend([101,102,103])\n",
    "print(lista40)\n",
    "lista40.sort()\n",
    "print(lista40)"
   ]
  },
  {
   "cell_type": "markdown",
   "metadata": {},
   "source": [
    "Ejercicios con estructuras básicas de python: Diccionarios\n",
    "* Crear un diccionario de 6 personas que conozcas con su primer nombre y su edad"
   ]
  },
  {
   "cell_type": "code",
   "execution_count": 136,
   "metadata": {},
   "outputs": [
    {
     "name": "stdout",
     "output_type": "stream",
     "text": [
      "{'Miguel': 23, 'Emanuel': 22, 'Renato': 21, 'Rodolfo': 20, 'Diana': 19, 'Mary': 24}\n"
     ]
    }
   ],
   "source": [
    "dic={\"Miguel\":23,\"Emanuel\":22,\"Renato\":21,\"Rodolfo\":20,\"Diana\":19,\"Mary\":24}\n",
    "print(dic)"
   ]
  },
  {
   "cell_type": "markdown",
   "metadata": {},
   "source": [
    "* Crear una lista con los valores de la edad y reacomodar la lista de menor a mayor valor."
   ]
  },
  {
   "cell_type": "code",
   "execution_count": 137,
   "metadata": {},
   "outputs": [
    {
     "name": "stdout",
     "output_type": "stream",
     "text": [
      "[23, 22, 21, 20, 19, 24]\n",
      "[19, 20, 21, 22, 23, 24]\n"
     ]
    }
   ],
   "source": [
    "edades=list(dic.values())\n",
    "print(edades)\n",
    "edades.sort()\n",
    "print(edades)"
   ]
  },
  {
   "cell_type": "markdown",
   "metadata": {},
   "source": [
    "* Usando el diccionario y un loop, imprimir solo los nombres"
   ]
  },
  {
   "cell_type": "code",
   "execution_count": 143,
   "metadata": {},
   "outputs": [
    {
     "name": "stdout",
     "output_type": "stream",
     "text": [
      "Miguel\n",
      "Emanuel\n",
      "Renato\n",
      "Rodolfo\n",
      "Diana\n",
      "Mary\n"
     ]
    }
   ],
   "source": [
    "#https://devcode.la/tutoriales/diccionarios-en-python/ \n",
    "for key in dic:\n",
    "    print(key)\n"
   ]
  },
  {
   "cell_type": "markdown",
   "metadata": {},
   "source": [
    "* Añadir dos personas nuevas a tu diccionario, incluyendo edad."
   ]
  },
  {
   "cell_type": "code",
   "execution_count": 144,
   "metadata": {},
   "outputs": [
    {
     "name": "stdout",
     "output_type": "stream",
     "text": [
      "{'Miguel': 23, 'Emanuel': 22, 'Renato': 21, 'Rodolfo': 20, 'Diana': 19, 'Mary': 24, 'Cesar': 18, 'Carlos': 17}\n"
     ]
    }
   ],
   "source": [
    "dic[\"Cesar\"]=18\n",
    "dic[\"Carlos\"]=17\n",
    "print(dic)"
   ]
  },
  {
   "cell_type": "markdown",
   "metadata": {},
   "source": [
    "Ejercicios con estructuras básicas de python: Sets\n",
    "* Crea un set con 100 numeros aleatorios enteros del 1 al 25"
   ]
  },
  {
   "cell_type": "code",
   "execution_count": 153,
   "metadata": {},
   "outputs": [
    {
     "name": "stdout",
     "output_type": "stream",
     "text": [
      "{1, 2, 3, 4, 5, 6, 7, 8, 9, 10, 11, 12, 13, 14, 15, 16, 17, 18, 19, 20, 21, 22, 23, 24, 25}\n"
     ]
    }
   ],
   "source": [
    "s=set()\n",
    "for i in range(0,100):\n",
    "    s.add(r.randint(1,25))\n",
    "    \n",
    "print(s) #? No repite numeros"
   ]
  },
  {
   "cell_type": "markdown",
   "metadata": {},
   "source": [
    "* Comprueba la longitud de tu set."
   ]
  },
  {
   "cell_type": "code",
   "execution_count": 151,
   "metadata": {},
   "outputs": [
    {
     "name": "stdout",
     "output_type": "stream",
     "text": [
      "24\n"
     ]
    }
   ],
   "source": [
    "print(len(s)) #????"
   ]
  },
  {
   "cell_type": "markdown",
   "metadata": {},
   "source": [
    "* Crea una lista de 5 numeros aleatorios del 1 al 10 y comprueba si cada valor aparece en el set inicial."
   ]
  },
  {
   "cell_type": "code",
   "execution_count": 160,
   "metadata": {},
   "outputs": [
    {
     "name": "stdout",
     "output_type": "stream",
     "text": [
      "[3, 3, 9, 4, 6]\n"
     ]
    }
   ],
   "source": [
    "lista10=[]\n",
    "for i in range(0,5):\n",
    "    lista10.append(r.randint(1,10))\n",
    "print(lista10)\n"
   ]
  },
  {
   "cell_type": "code",
   "execution_count": 162,
   "metadata": {},
   "outputs": [
    {
     "name": "stdout",
     "output_type": "stream",
     "text": [
      "True\n",
      "True\n",
      "True\n",
      "True\n",
      "True\n"
     ]
    }
   ],
   "source": [
    "for i in lista10:\n",
    "    print(i in s)"
   ]
  },
  {
   "cell_type": "code",
   "execution_count": null,
   "metadata": {},
   "outputs": [],
   "source": []
  }
 ],
 "metadata": {
  "kernelspec": {
   "display_name": "Python 3",
   "language": "python",
   "name": "python3"
  },
  "language_info": {
   "codemirror_mode": {
    "name": "ipython",
    "version": 3
   },
   "file_extension": ".py",
   "mimetype": "text/x-python",
   "name": "python",
   "nbconvert_exporter": "python",
   "pygments_lexer": "ipython3",
   "version": "3.8.3"
  }
 },
 "nbformat": 4,
 "nbformat_minor": 4
}
