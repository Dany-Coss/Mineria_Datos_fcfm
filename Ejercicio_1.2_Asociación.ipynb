{
 "cells": [
  {
   "cell_type": "code",
   "execution_count": 1,
   "metadata": {},
   "outputs": [],
   "source": [
    "from itertools import combinations #importamos  la funcion para hacer combinaciones"
   ]
  },
  {
   "cell_type": "code",
   "execution_count": 2,
   "metadata": {},
   "outputs": [],
   "source": [
    "lista=[\"a\",\"b\",\"c\",\"d\",\"e\"]"
   ]
  },
  {
   "cell_type": "code",
   "execution_count": 3,
   "metadata": {},
   "outputs": [],
   "source": [
    "#Creamos las listas que usaremos \n",
    "com2=[] #Lista vacia, aqui iran las combinaciones para k=2\n",
    "com3=[] #Lista vacia, aqui iran las combinaciones para k=3\n",
    "contador1=[] #lista de casos ocurridos de cada combinacion de k=1\n",
    "contador2=[] #Lista de casos ocurridos de cada combinacion de k=2\n",
    "contador3=[] #Lista de casos ocurridos de cada combinacion de k=3"
   ]
  },
  {
   "cell_type": "code",
   "execution_count": 4,
   "metadata": {},
   "outputs": [],
   "source": [
    "tabla=[[\"a\",\"b\",\"c\",\"e\"],[\"b\",\"e\"],[\"c\",\"d\",\"e\"],[\"a\",\"c\",\"d\"],[\"a\",\"c\",\"e\"]] #esta es la tabla "
   ]
  },
  {
   "cell_type": "code",
   "execution_count": 5,
   "metadata": {},
   "outputs": [
    {
     "data": {
      "text/plain": [
       "[('a', 'b'),\n",
       " ('a', 'c'),\n",
       " ('a', 'd'),\n",
       " ('a', 'e'),\n",
       " ('b', 'c'),\n",
       " ('b', 'd'),\n",
       " ('b', 'e'),\n",
       " ('c', 'd'),\n",
       " ('c', 'e'),\n",
       " ('d', 'e')]"
      ]
     },
     "execution_count": 5,
     "metadata": {},
     "output_type": "execute_result"
    }
   ],
   "source": [
    "for a in combinations(lista,2): \n",
    "\tcom2.append(a) #con append le agregamos a la lista la combinacion de letras a (donde a=[letra,letra])\n",
    "com2 #se imprimen la lista con las combinaciones de 2 letras (Deben ser 10 combinaciones 5c2=10)"
   ]
  },
  {
   "cell_type": "code",
   "execution_count": 6,
   "metadata": {},
   "outputs": [
    {
     "data": {
      "text/plain": [
       "[('a', 'b', 'c'),\n",
       " ('a', 'b', 'd'),\n",
       " ('a', 'b', 'e'),\n",
       " ('a', 'c', 'd'),\n",
       " ('a', 'c', 'e'),\n",
       " ('a', 'd', 'e'),\n",
       " ('b', 'c', 'd'),\n",
       " ('b', 'c', 'e'),\n",
       " ('b', 'd', 'e'),\n",
       " ('c', 'd', 'e')]"
      ]
     },
     "execution_count": 6,
     "metadata": {},
     "output_type": "execute_result"
    }
   ],
   "source": [
    "for a in combinations(lista,3):\n",
    "\tcom3.append(a) #con append le agregamos a la lista la combinacion de letras a (donde a=[letra,letra,letra])\n",
    "com3 #se imprime la lista con las combinaciones de 3 letras (deben ser 10 combinaciones 5c3=10)"
   ]
  },
  {
   "cell_type": "code",
   "execution_count": 7,
   "metadata": {},
   "outputs": [],
   "source": [
    "for i in range(0,len(lista)):\n",
    "    contador1.append(0)\n",
    "\n",
    "for x in range(0,len(com2)):\n",
    "    contador2.append(0)\n",
    "\n",
    "for y in range(0,len(com3)):\n",
    "    contador3.append(0)\n"
   ]
  },
  {
   "cell_type": "code",
   "execution_count": 8,
   "metadata": {},
   "outputs": [
    {
     "data": {
      "text/plain": [
       "[0, 0, 0, 0, 0]"
      ]
     },
     "execution_count": 8,
     "metadata": {},
     "output_type": "execute_result"
    }
   ],
   "source": [
    "contador1 #verificamos que contenga 5 veces el 0"
   ]
  },
  {
   "cell_type": "code",
   "execution_count": 9,
   "metadata": {},
   "outputs": [
    {
     "data": {
      "text/plain": [
       "[0, 0, 0, 0, 0, 0, 0, 0, 0, 0]"
      ]
     },
     "execution_count": 9,
     "metadata": {},
     "output_type": "execute_result"
    }
   ],
   "source": [
    "contador2 #verificamos que contega 10 veces el 0"
   ]
  },
  {
   "cell_type": "code",
   "execution_count": 10,
   "metadata": {},
   "outputs": [
    {
     "data": {
      "text/plain": [
       "[0, 0, 0, 0, 0, 0, 0, 0, 0, 0]"
      ]
     },
     "execution_count": 10,
     "metadata": {},
     "output_type": "execute_result"
    }
   ],
   "source": [
    " contador3 #verificamos que contenga 10 veces el 0"
   ]
  },
  {
   "cell_type": "code",
   "execution_count": 11,
   "metadata": {},
   "outputs": [
    {
     "name": "stdout",
     "output_type": "stream",
     "text": [
      "[3, 2, 4, 2, 4]\n"
     ]
    }
   ],
   "source": [
    "for x in range(0,len(tabla)):\n",
    "    for i in range(0,len(tabla[x])):\n",
    "            for j in range(0,len(lista)):\n",
    "                    if lista[j]==tabla[x][i]:\n",
    "                        contador1[j]=contador1[j]+1\n",
    "\n",
    "print(contador1)"
   ]
  },
  {
   "cell_type": "code",
   "execution_count": 14,
   "metadata": {},
   "outputs": [
    {
     "data": {
      "text/plain": [
       "3"
      ]
     },
     "execution_count": 14,
     "metadata": {},
     "output_type": "execute_result"
    }
   ],
   "source": [
    "pasa1=0 #verificamos cuantos itemset pasan encima del soporte minimo de 0.5\n",
    "for i in range(0,len(contador1)):\n",
    "    if (contador1[i]/5)>0.5:\n",
    "        pasa1=pasa1+1\n",
    "    \n",
    "pasa1 #al correrlo podemos ver que solo 3 elementos estan por encima del soporte minimo y procedemos a verificar con k=2"
   ]
  },
  {
   "cell_type": "code",
   "execution_count": null,
   "metadata": {},
   "outputs": [],
   "source": []
  }
 ],
 "metadata": {
  "kernelspec": {
   "display_name": "Python 3",
   "language": "python",
   "name": "python3"
  },
  "language_info": {
   "codemirror_mode": {
    "name": "ipython",
    "version": 3
   },
   "file_extension": ".py",
   "mimetype": "text/x-python",
   "name": "python",
   "nbconvert_exporter": "python",
   "pygments_lexer": "ipython3",
   "version": "3.8.3"
  }
 },
 "nbformat": 4,
 "nbformat_minor": 4
}
